{
 "cells": [
  {
   "cell_type": "markdown",
   "metadata": {},
   "source": [
    "## PyPDFLoader\n",
    "\n",
    "providers functionality for loading PDF documents within the LangChain framework"
   ]
  },
  {
   "cell_type": "code",
   "execution_count": 2,
   "metadata": {},
   "outputs": [],
   "source": [
    "# !pip install pypdf \n",
    "\n",
    "from langchain_community.document_loaders import PyPDFLoader"
   ]
  },
  {
   "cell_type": "markdown",
   "metadata": {},
   "source": [
    "First lets look at the pdf document"
   ]
  },
  {
   "cell_type": "code",
   "execution_count": 3,
   "metadata": {},
   "outputs": [
    {
     "name": "stderr",
     "output_type": "stream",
     "text": [
      "'open' is not recognized as an internal or external command,\n",
      "operable program or batch file.\n"
     ]
    }
   ],
   "source": [
    "!open documents/apple_cider.pdf"
   ]
  },
  {
   "cell_type": "markdown",
   "metadata": {},
   "source": [
    "This line of code initializes the loader"
   ]
  },
  {
   "cell_type": "code",
   "execution_count": 4,
   "metadata": {},
   "outputs": [],
   "source": [
    "loader = PyPDFLoader(\"documents/apple_cider.pdf\")"
   ]
  },
  {
   "cell_type": "markdown",
   "metadata": {},
   "source": [
    "Load the PDF using the pypdf into the \"pages\" variable\n",
    "\n",
    "Each page is stored as a separate chunk. It also stores the page numbers as metadata"
   ]
  },
  {
   "cell_type": "code",
   "execution_count": 5,
   "metadata": {},
   "outputs": [],
   "source": [
    "pages = loader.load_and_split()"
   ]
  },
  {
   "cell_type": "code",
   "execution_count": 6,
   "metadata": {},
   "outputs": [
    {
     "data": {
      "text/plain": [
       "[Document(page_content=\"REVIEW Open Access\\nThe effect of apple cider vinegar on lipid\\nprofiles and glycemic parameters: a\\nsystematic review and meta-analysis of\\nrandomized clinical trials\\nAmir Hadi1, Makan Pourmasoumi2, Ameneh Najafgholizadeh3, Cain C. T. Clark4and Ahmad Esmaillzadeh5,6,7*\\nAbstract\\nBackground: Elevated lipid profiles and impaired glucose homeostasis are risk factors for several cardiovascular\\ndiseases (CVDs), which, subsequently, represent a leading cause of early mortality, worldwide. The aim of the\\ncurrent study was to conduct a systematic review and meta-analysis of the effect of apple cider vinegar (ACV) on\\nlipid profiles and glycemic parameters in adults.\\nMethods: A systematic search was conducted in electronic databases, including Medline, Scopus, Cochrane Library,\\nand Web of Knowledge, from database inception to January 2020. All clinical trials which investigated the effect of\\nACV on lipid profiles and glycemic indicators were included. Studies were excluded if ACV was used in combination\\nwith other interventions or when the duration of intervention was < 2 weeks. To account for between-study\\nheterogeneity, we performed meta-analysis using a random-effects model.\\nResults: Overall, nine studies, including 10 study arms, were included in this meta-analysis. We found that ACV\\nconsumption significantly decreased serum total cholesterol ( −6.06 mg/dL; 95% CI: −10.95, −1.17; I2: 39%), fasting\\nplasma glucose ( −7.97 mg/dL; 95% CI: −13.74, −2.21; I2: 75%), and HbA1C concentrations ( −0.50; 95% CI: −0.90,−\\n0.09; I2: 91%). No significant effect of ACV consumption was found on serum LDL-C, HDL-C, fasting insulin\\nconcentrations, or HOMA-IR. The stratified analysis revealed a significant reduction of serum TC and TG in a\\nsubgroup of patients with type 2 diabetes, those who took ≤15 mL/day of ACV, and those who consumed ACV for\\n> 8-weeks, respectively. Furthermore, ACV consumption significantly decreased FPG levels in a subgroup of studies\\nthat administered ACV for > 8-weeks. Further, ACV intake appeared to elicit an increase in FPG and HDL-C\\nconcentrations in apparently healthy participants.\\nConclusion: We found a significant favorable effect of ACV consumption on FPG and blood lipid levels.\\nKeywords: Apple cider vinegar, Lipid profiles, Clinical trials, Meta-analysis, Glycemic indices\\n© The Author(s). 2021 Open Access This article is licensed under a Creative Commons Attribution 4.0 International License,\\nwhich permits use, sharing, adaptation, distribution and reproduction in any medium or format, as long as you give\\nappropriate credit to the original author(s) and the source, provide a link to the Creative Commons licence, and indicate if\\nchanges were made. The images or other third party material in this article are included in the article's Creative Commons\\nlicence, unless indicated otherwise in a credit line to the material. If material is not included in the article's Creative Commons\\nlicence and your intended use is not permitted by statutory regulation or exceeds the permitted use, you will need to obtain\\npermission directly from the copyright holder. To view a copy of this licence, visit http://creativecommons.org/licenses/by/4.0/ .\\nThe Creative Commons Public Domain Dedication waiver ( http://creativecommons.org/publicdomain/zero/1.0/ ) applies to the\\ndata made available in this article, unless otherwise stated in a credit line to the data.* Correspondence: a-esmaillzadeh@tums.ac.ir\\n5Department of Community Nutrition, School of Nutritional Sciences and\\nDietetics, Tehran University of Medical Sciences, P. O. Box: 14155-6117,\\nTehran, Iran\\n6Obesity and Eating Habits Research Center, Endocrinology and Metabolism\\nMolecular-Cellular Sciences Institute, Tehran University of Medical Sciences,\\nTehran, Iran\\nFull list of author information is available at the end of the articleBMC Complementary\\nMedicine and Therapie sHadi et al. BMC Complementary Medicine and Therapies          (2021) 21:179 \\nhttps://doi.org/10.1186/s12906-021-03351-w\", metadata={'source': 'documents/apple_cider.pdf', 'page': 0}),\n",
       " Document(page_content='Background\\nCardiovascular diseases (CVDs), collectively, are regarded\\nas the number one cause of early mortality, worldwide\\n[30]. According to the World Health Organization\\n(WHO), approximately 17.7 million deaths were attribut-\\nable to CVD in 2015, and it is projected to account for\\nmore than 23.6 million by 2030 [ 2]. Indeed, given the high\\neconomic costs of CVDs on healthcare systems, especially\\nin developing countries, prevention and management of\\nCVDs is of high priority.\\nDyslipidemia, in particular hypercholesterolemia, and\\nhyperglycemia are regarded as the most important con-\\ntributors to CVD events [ 24,25]. Lifestyle modifications\\n(dietary changes and physical activity), along with\\npharmacological interventions, such as statins, fibrates,\\nand insulin sensitizers, are routinely used to manage\\nthese metabolic disorders [ 1,14,19,26]. However, low\\nadherence to lifestyle recommendations and reported\\nadverse reactions of synthetic agents [ 38,41] highlights\\nthe necessity of discerning novel and efficacious ap-\\nproaches. In this line, the benefical effect of nutraceutics\\nand fuctional foods on human health have been well-\\ndocumented [ 8,36]. In contemporary research and prac-\\ntice, plants and their derivatives have attracted a lot of\\ninterest for their beneficial effects in controlling lipid\\nprofile and glycemic status [ 5,15,37]. Indeed, one of the\\nmost popular plant derivatives in this regard is vinegar.\\nApple cider vinegar (ACV) is one of the three most\\ncommon types of vinegar, produced by fermenting ap-\\nples [ 3]. This acidic solution is consumed throughout\\nthe world as a flavoring and preservative agent in foods\\n[22]. ACV contains a variety of flavonoids, such as gallic\\nacid, catechin, caffeic acid, and ferulic acid [ 11,31]. Ani-\\nmal experiments have reported that ACV has a variety\\nof pharmacological functions, including anti-oxidant,\\nanti-inflammatory, anti-diabetic, anti-hypertensive, and\\nanti-hyperlipidemic properties [ 7,18,32,39]. The effects\\nof ACV on serum lipid parameters and glycemic\\nmarkers have been investigated in several randomized\\nclinical trials [ 4,12,16,22,23,27,33]; however, the re-\\nsults are equivocal. Indeed, some investigations have re-\\nported beneficial effects following ACV consumption on\\nthe aforementioned parameters [ 16,22,23,27], although\\nothers failed to detect any effects [ 4,12,33]. It is con-\\nceivable that such contradictory findings might be due\\nto the differences in study design and/or characteristics\\nof participants (age, sex, clinical condition).\\nTo the best of our knowledge, there has been no sys-\\ntematic compilation of the previously reported effects of\\nACV on lipid profiles and glycemic status. Therefore, in\\nthe current study, we performed a systematic review and\\nmeta-analysis of all published clinical trials to provide a\\nmore precise estimation of the effects of ACV on serum\\nlipid parameters and glycemic markers in adults.Methods\\nThe present systematic review and meta-analysis was\\nplanned, conducted, and reported according to the\\nguidelines of the 2009 Preferred Reporting Items for Sys-\\ntematic Reviews and Meta- Analysis (PRISMA) state-\\nment [ 29].\\nSearch strategy\\nA comprehensive literature search was performed to\\nidentify and appraise investigations that had assessed the\\neffects of ACV supplementation on lipid profiles and\\nglycemic parameters. Electronic databases, including\\nMedline, Scopus, Cochrane Library, and Web of Know-\\nledge, were searched from database inception to January\\n2020. The relevant keywords were used in combination\\nwith the Medical Subject Heading (MeSH) terms, search\\ntag, and boolean operators (AND, OR, NOT) (Supple-\\nmental Table 1). The search keywords were seldom\\nbased on vinegar and related phrases to minimize the\\nchance of missing studies which reported lipids or gly-\\ncemic related markers as secondary outcomes. Addition-\\nally, the reference lists of related review articles and the\\nretrieved studies were also hand-searched to detect eli-', metadata={'source': 'documents/apple_cider.pdf', 'page': 1}),\n",
       " Document(page_content='cemic related markers as secondary outcomes. Addition-\\nally, the reference lists of related review articles and the\\nretrieved studies were also hand-searched to detect eli-\\ngible trials that might have been missed.\\nStudy selection\\nAfter excluding duplicate studies, two authors (AH and\\nMP) independently reviewed articles based on titles,\\nabstracts, or full-texts to identify relevant studies. Even-\\ntually, original studies were included in the present\\nmeta-analysis if they: 1) were randomized clinical trials;\\n2) administered ACV as the intervention; 3) enrolled\\nadult participants (aged ≥18 years); 4) reported lipid and\\nglycemic parameters as the outcomes of interest. Studies\\nthat met the following criteria were excluded: 1) ACV\\nwas used in combination with other interventions; 2)\\nstudies with an intervention duration of fewer than 2\\nweeks; 3) studies that did not report relevant effect sizes.\\nTable 1shows the PICOS (participants, intervention/ex-\\nposure, comparisons, outcomes, and study design) cri-\\nteria which was used to define the research question.\\nTable 1 PICO (participants, intervention/exposure, comparison,\\noutcomes, and study design) criteria for inclusion and exclusion\\nof studies\\nParameters Descriptions\\nParticipants Adult\\nIntervention Apple cider vinegar\\nsupplementation\\nComparison Any comparator/control that incorporated\\na nonintervention group\\nOutcomes lipid profile levels and glycemic indices\\nSetting Randomized controlled trialsHadi et al. BMC Complementary Medicine and Therapies          (2021) 21:179 Page 2 of 12', metadata={'source': 'documents/apple_cider.pdf', 'page': 1})]"
      ]
     },
     "execution_count": 6,
     "metadata": {},
     "output_type": "execute_result"
    }
   ],
   "source": [
    "pages[:3]"
   ]
  },
  {
   "cell_type": "code",
   "execution_count": 7,
   "metadata": {},
   "outputs": [
    {
     "name": "stdout",
     "output_type": "stream",
     "text": [
      "{'source': 'documents/apple_cider.pdf', 'page': 0}\n",
      "{'source': 'documents/apple_cider.pdf', 'page': 1}\n",
      "{'source': 'documents/apple_cider.pdf', 'page': 1}\n"
     ]
    }
   ],
   "source": [
    "for i in range(3):\n",
    "    print(pages[i].metadata)"
   ]
  },
  {
   "cell_type": "markdown",
   "metadata": {},
   "source": [
    "Since the page of the pdf is still quite long, we would break the pages into smaller pieces.\n",
    "\n",
    "We give a bit of overlap so that no meaningful sentense is lost. "
   ]
  },
  {
   "cell_type": "code",
   "execution_count": 8,
   "metadata": {},
   "outputs": [],
   "source": [
    "from langchain.text_splitter import RecursiveCharacterTextSplitter\n",
    "\n",
    "text_splitter = RecursiveCharacterTextSplitter(chunk_size=1000, chunk_overlap=20)\n",
    "\n",
    "documents = text_splitter.split_documents(pages)"
   ]
  },
  {
   "cell_type": "code",
   "execution_count": 9,
   "metadata": {},
   "outputs": [
    {
     "name": "stdout",
     "output_type": "stream",
     "text": [
      "17 vs 57\n"
     ]
    }
   ],
   "source": [
    "print(f\"{len(pages)} vs {len(documents)}\")"
   ]
  },
  {
   "cell_type": "markdown",
   "metadata": {},
   "source": [
    "Let's now load teh api_key"
   ]
  },
  {
   "cell_type": "code",
   "execution_count": 10,
   "metadata": {},
   "outputs": [],
   "source": [
    "import os \n",
    "from dotenv import load_dotenv\n",
    "\n",
    "load_dotenv(\".env\")\n",
    "\n",
    "openai_api_key = os.getenv(\"open_ai_key\")"
   ]
  },
  {
   "cell_type": "markdown",
   "metadata": {},
   "source": [
    "## Embeddings: \n",
    "\n",
    "We are going to use openAI embeddings to convert each chunk of text to numeric vectors. \n",
    "\n",
    "Remember, the reason is that searching through a large number of text chunks is very time consuming. However, numeric vector comparison is extremly fast."
   ]
  },
  {
   "cell_type": "code",
   "execution_count": 11,
   "metadata": {},
   "outputs": [],
   "source": [
    "from langchain_openai import OpenAIEmbeddings\n",
    "\n",
    "embeddings = OpenAIEmbeddings(openai_api_key=openai_api_key)"
   ]
  },
  {
   "cell_type": "markdown",
   "metadata": {},
   "source": [
    "## Chroma vector database\n",
    "\n",
    "We are going to use openAI embeddings to convert each chunk of text to numeric vectors. "
   ]
  },
  {
   "cell_type": "code",
   "execution_count": 12,
   "metadata": {},
   "outputs": [
    {
     "name": "stdout",
     "output_type": "stream",
     "text": [
      "Requirement already satisfied: Chroma in d:\\ml_ai_projects\\environ\\.conda\\lib\\site-packages (0.2.0)\n",
      "Requirement already satisfied: chromadb in d:\\ml_ai_projects\\environ\\.conda\\lib\\site-packages (0.4.24)\n",
      "Requirement already satisfied: build>=1.0.3 in d:\\ml_ai_projects\\environ\\.conda\\lib\\site-packages (from chromadb) (1.2.1)\n",
      "Requirement already satisfied: requests>=2.28 in d:\\ml_ai_projects\\environ\\.conda\\lib\\site-packages (from chromadb) (2.31.0)\n",
      "Requirement already satisfied: pydantic>=1.9 in d:\\ml_ai_projects\\environ\\.conda\\lib\\site-packages (from chromadb) (2.6.4)\n",
      "Requirement already satisfied: chroma-hnswlib==0.7.3 in d:\\ml_ai_projects\\environ\\.conda\\lib\\site-packages (from chromadb) (0.7.3)\n",
      "Requirement already satisfied: fastapi>=0.95.2 in d:\\ml_ai_projects\\environ\\.conda\\lib\\site-packages (from chromadb) (0.110.1)\n",
      "Requirement already satisfied: uvicorn>=0.18.3 in d:\\ml_ai_projects\\environ\\.conda\\lib\\site-packages (from uvicorn[standard]>=0.18.3->chromadb) (0.29.0)\n",
      "Requirement already satisfied: numpy>=1.22.5 in d:\\ml_ai_projects\\environ\\.conda\\lib\\site-packages (from chromadb) (1.26.4)\n",
      "Requirement already satisfied: posthog>=2.4.0 in d:\\ml_ai_projects\\environ\\.conda\\lib\\site-packages (from chromadb) (3.5.0)\n",
      "Requirement already satisfied: typing-extensions>=4.5.0 in d:\\ml_ai_projects\\environ\\.conda\\lib\\site-packages (from chromadb) (4.9.0)\n",
      "Requirement already satisfied: pulsar-client>=3.1.0 in d:\\ml_ai_projects\\environ\\.conda\\lib\\site-packages (from chromadb) (3.5.0)\n",
      "Requirement already satisfied: onnxruntime>=1.14.1 in d:\\ml_ai_projects\\environ\\.conda\\lib\\site-packages (from chromadb) (1.17.3)\n",
      "Requirement already satisfied: opentelemetry-api>=1.2.0 in d:\\ml_ai_projects\\environ\\.conda\\lib\\site-packages (from chromadb) (1.24.0)\n",
      "Requirement already satisfied: opentelemetry-exporter-otlp-proto-grpc>=1.2.0 in d:\\ml_ai_projects\\environ\\.conda\\lib\\site-packages (from chromadb) (1.24.0)\n",
      "Requirement already satisfied: opentelemetry-instrumentation-fastapi>=0.41b0 in d:\\ml_ai_projects\\environ\\.conda\\lib\\site-packages (from chromadb) (0.45b0)\n",
      "Requirement already satisfied: opentelemetry-sdk>=1.2.0 in d:\\ml_ai_projects\\environ\\.conda\\lib\\site-packages (from chromadb) (1.24.0)\n",
      "Requirement already satisfied: tokenizers>=0.13.2 in d:\\ml_ai_projects\\environ\\.conda\\lib\\site-packages (from chromadb) (0.15.2)\n",
      "Requirement already satisfied: pypika>=0.48.9 in d:\\ml_ai_projects\\environ\\.conda\\lib\\site-packages (from chromadb) (0.48.9)\n",
      "Requirement already satisfied: tqdm>=4.65.0 in d:\\ml_ai_projects\\environ\\.conda\\lib\\site-packages (from chromadb) (4.65.0)\n",
      "Requirement already satisfied: overrides>=7.3.1 in d:\\ml_ai_projects\\environ\\.conda\\lib\\site-packages (from chromadb) (7.7.0)\n",
      "Requirement already satisfied: importlib-resources in d:\\ml_ai_projects\\environ\\.conda\\lib\\site-packages (from chromadb) (6.4.0)\n",
      "Requirement already satisfied: grpcio>=1.58.0 in d:\\ml_ai_projects\\environ\\.conda\\lib\\site-packages (from chromadb) (1.62.1)\n",
      "Requirement already satisfied: bcrypt>=4.0.1 in d:\\ml_ai_projects\\environ\\.conda\\lib\\site-packages (from chromadb) (4.1.2)\n",
      "Requirement already satisfied: typer>=0.9.0 in d:\\ml_ai_projects\\environ\\.conda\\lib\\site-packages (from chromadb) (0.12.3)\n",
      "Requirement already satisfied: kubernetes>=28.1.0 in d:\\ml_ai_projects\\environ\\.conda\\lib\\site-packages (from chromadb) (29.0.0)\n",
      "Requirement already satisfied: tenacity>=8.2.3 in d:\\ml_ai_projects\\environ\\.conda\\lib\\site-packages (from chromadb) (8.2.3)\n",
      "Requirement already satisfied: PyYAML>=6.0.0 in d:\\ml_ai_projects\\environ\\.conda\\lib\\site-packages (from chromadb) (6.0.1)\n",
      "Requirement already satisfied: mmh3>=4.0.1 in d:\\ml_ai_projects\\environ\\.conda\\lib\\site-packages (from chromadb) (4.1.0)\n",
      "Requirement already satisfied: orjson>=3.9.12 in d:\\ml_ai_projects\\environ\\.conda\\lib\\site-packages (from chromadb) (3.10.0)\n",
      "Requirement already satisfied: packaging>=19.1 in d:\\ml_ai_projects\\environ\\.conda\\lib\\site-packages (from build>=1.0.3->chromadb) (23.2)\n",
      "Requirement already satisfied: pyproject_hooks in d:\\ml_ai_projects\\environ\\.conda\\lib\\site-packages (from build>=1.0.3->chromadb) (1.0.0)\n",
      "Requirement already satisfied: colorama in d:\\ml_ai_projects\\environ\\.conda\\lib\\site-packages (from build>=1.0.3->chromadb) (0.4.6)\n",
      "Requirement already satisfied: starlette<0.38.0,>=0.37.2 in d:\\ml_ai_projects\\environ\\.conda\\lib\\site-packages (from fastapi>=0.95.2->chromadb) (0.37.2)\n",
      "Requirement already satisfied: certifi>=14.05.14 in d:\\ml_ai_projects\\environ\\.conda\\lib\\site-packages (from kubernetes>=28.1.0->chromadb) (2024.2.2)\n",
      "Requirement already satisfied: six>=1.9.0 in d:\\ml_ai_projects\\environ\\.conda\\lib\\site-packages (from kubernetes>=28.1.0->chromadb) (1.16.0)\n",
      "Requirement already satisfied: python-dateutil>=2.5.3 in d:\\ml_ai_projects\\environ\\.conda\\lib\\site-packages (from kubernetes>=28.1.0->chromadb) (2.9.0)\n",
      "Requirement already satisfied: google-auth>=1.0.1 in d:\\ml_ai_projects\\environ\\.conda\\lib\\site-packages (from kubernetes>=28.1.0->chromadb) (2.29.0)\n",
      "Requirement already satisfied: websocket-client!=0.40.0,!=0.41.*,!=0.42.*,>=0.32.0 in d:\\ml_ai_projects\\environ\\.conda\\lib\\site-packages (from kubernetes>=28.1.0->chromadb) (1.7.0)\n",
      "Requirement already satisfied: requests-oauthlib in d:\\ml_ai_projects\\environ\\.conda\\lib\\site-packages (from kubernetes>=28.1.0->chromadb) (2.0.0)\n",
      "Requirement already satisfied: oauthlib>=3.2.2 in d:\\ml_ai_projects\\environ\\.conda\\lib\\site-packages (from kubernetes>=28.1.0->chromadb) (3.2.2)\n",
      "Requirement already satisfied: urllib3>=1.24.2 in d:\\ml_ai_projects\\environ\\.conda\\lib\\site-packages (from kubernetes>=28.1.0->chromadb) (1.26.15)\n",
      "Requirement already satisfied: coloredlogs in d:\\ml_ai_projects\\environ\\.conda\\lib\\site-packages (from onnxruntime>=1.14.1->chromadb) (15.0.1)\n",
      "Requirement already satisfied: flatbuffers in d:\\ml_ai_projects\\environ\\.conda\\lib\\site-packages (from onnxruntime>=1.14.1->chromadb) (24.3.25)\n",
      "Requirement already satisfied: protobuf in d:\\ml_ai_projects\\environ\\.conda\\lib\\site-packages (from onnxruntime>=1.14.1->chromadb) (4.25.3)\n",
      "Requirement already satisfied: sympy in d:\\ml_ai_projects\\environ\\.conda\\lib\\site-packages (from onnxruntime>=1.14.1->chromadb) (1.12)\n",
      "Requirement already satisfied: deprecated>=1.2.6 in d:\\ml_ai_projects\\environ\\.conda\\lib\\site-packages (from opentelemetry-api>=1.2.0->chromadb) (1.2.14)\n",
      "Requirement already satisfied: importlib-metadata<=7.0,>=6.0 in d:\\ml_ai_projects\\environ\\.conda\\lib\\site-packages (from opentelemetry-api>=1.2.0->chromadb) (7.0.0)\n",
      "Requirement already satisfied: googleapis-common-protos~=1.52 in d:\\ml_ai_projects\\environ\\.conda\\lib\\site-packages (from opentelemetry-exporter-otlp-proto-grpc>=1.2.0->chromadb) (1.63.0)\n",
      "Requirement already satisfied: opentelemetry-exporter-otlp-proto-common==1.24.0 in d:\\ml_ai_projects\\environ\\.conda\\lib\\site-packages (from opentelemetry-exporter-otlp-proto-grpc>=1.2.0->chromadb) (1.24.0)\n",
      "Requirement already satisfied: opentelemetry-proto==1.24.0 in d:\\ml_ai_projects\\environ\\.conda\\lib\\site-packages (from opentelemetry-exporter-otlp-proto-grpc>=1.2.0->chromadb) (1.24.0)\n",
      "Requirement already satisfied: opentelemetry-instrumentation-asgi==0.45b0 in d:\\ml_ai_projects\\environ\\.conda\\lib\\site-packages (from opentelemetry-instrumentation-fastapi>=0.41b0->chromadb) (0.45b0)\n",
      "Requirement already satisfied: opentelemetry-instrumentation==0.45b0 in d:\\ml_ai_projects\\environ\\.conda\\lib\\site-packages (from opentelemetry-instrumentation-fastapi>=0.41b0->chromadb) (0.45b0)\n",
      "Requirement already satisfied: opentelemetry-semantic-conventions==0.45b0 in d:\\ml_ai_projects\\environ\\.conda\\lib\\site-packages (from opentelemetry-instrumentation-fastapi>=0.41b0->chromadb) (0.45b0)\n",
      "Requirement already satisfied: opentelemetry-util-http==0.45b0 in d:\\ml_ai_projects\\environ\\.conda\\lib\\site-packages (from opentelemetry-instrumentation-fastapi>=0.41b0->chromadb) (0.45b0)\n",
      "Requirement already satisfied: setuptools>=16.0 in d:\\ml_ai_projects\\environ\\.conda\\lib\\site-packages (from opentelemetry-instrumentation==0.45b0->opentelemetry-instrumentation-fastapi>=0.41b0->chromadb) (68.2.2)\n",
      "Requirement already satisfied: wrapt<2.0.0,>=1.0.0 in d:\\ml_ai_projects\\environ\\.conda\\lib\\site-packages (from opentelemetry-instrumentation==0.45b0->opentelemetry-instrumentation-fastapi>=0.41b0->chromadb) (1.16.0)\n",
      "Requirement already satisfied: asgiref~=3.0 in d:\\ml_ai_projects\\environ\\.conda\\lib\\site-packages (from opentelemetry-instrumentation-asgi==0.45b0->opentelemetry-instrumentation-fastapi>=0.41b0->chromadb) (3.8.1)\n",
      "Requirement already satisfied: monotonic>=1.5 in d:\\ml_ai_projects\\environ\\.conda\\lib\\site-packages (from posthog>=2.4.0->chromadb) (1.6)\n",
      "Requirement already satisfied: backoff>=1.10.0 in d:\\ml_ai_projects\\environ\\.conda\\lib\\site-packages (from posthog>=2.4.0->chromadb) (2.2.1)\n",
      "Requirement already satisfied: annotated-types>=0.4.0 in d:\\ml_ai_projects\\environ\\.conda\\lib\\site-packages (from pydantic>=1.9->chromadb) (0.6.0)\n",
      "Requirement already satisfied: pydantic-core==2.16.3 in d:\\ml_ai_projects\\environ\\.conda\\lib\\site-packages (from pydantic>=1.9->chromadb) (2.16.3)\n",
      "Requirement already satisfied: charset-normalizer<4,>=2 in d:\\ml_ai_projects\\environ\\.conda\\lib\\site-packages (from requests>=2.28->chromadb) (3.3.2)\n",
      "Requirement already satisfied: idna<4,>=2.5 in d:\\ml_ai_projects\\environ\\.conda\\lib\\site-packages (from requests>=2.28->chromadb) (3.6)\n",
      "Requirement already satisfied: huggingface_hub<1.0,>=0.16.4 in d:\\ml_ai_projects\\environ\\.conda\\lib\\site-packages (from tokenizers>=0.13.2->chromadb) (0.22.2)\n",
      "Requirement already satisfied: click>=8.0.0 in d:\\ml_ai_projects\\environ\\.conda\\lib\\site-packages (from typer>=0.9.0->chromadb) (8.1.7)\n",
      "Requirement already satisfied: shellingham>=1.3.0 in d:\\ml_ai_projects\\environ\\.conda\\lib\\site-packages (from typer>=0.9.0->chromadb) (1.5.4)\n",
      "Requirement already satisfied: rich>=10.11.0 in d:\\ml_ai_projects\\environ\\.conda\\lib\\site-packages (from typer>=0.9.0->chromadb) (13.7.1)\n",
      "Requirement already satisfied: h11>=0.8 in d:\\ml_ai_projects\\environ\\.conda\\lib\\site-packages (from uvicorn>=0.18.3->uvicorn[standard]>=0.18.3->chromadb) (0.14.0)\n",
      "Requirement already satisfied: httptools>=0.5.0 in d:\\ml_ai_projects\\environ\\.conda\\lib\\site-packages (from uvicorn[standard]>=0.18.3->chromadb) (0.6.1)\n",
      "Requirement already satisfied: python-dotenv>=0.13 in d:\\ml_ai_projects\\environ\\.conda\\lib\\site-packages (from uvicorn[standard]>=0.18.3->chromadb) (1.0.1)\n",
      "Requirement already satisfied: watchfiles>=0.13 in d:\\ml_ai_projects\\environ\\.conda\\lib\\site-packages (from uvicorn[standard]>=0.18.3->chromadb) (0.21.0)\n",
      "Requirement already satisfied: websockets>=10.4 in d:\\ml_ai_projects\\environ\\.conda\\lib\\site-packages (from uvicorn[standard]>=0.18.3->chromadb) (12.0)\n",
      "Requirement already satisfied: cachetools<6.0,>=2.0.0 in d:\\ml_ai_projects\\environ\\.conda\\lib\\site-packages (from google-auth>=1.0.1->kubernetes>=28.1.0->chromadb) (5.3.3)\n",
      "Requirement already satisfied: pyasn1-modules>=0.2.1 in d:\\ml_ai_projects\\environ\\.conda\\lib\\site-packages (from google-auth>=1.0.1->kubernetes>=28.1.0->chromadb) (0.4.0)\n",
      "Requirement already satisfied: rsa<5,>=3.1.4 in d:\\ml_ai_projects\\environ\\.conda\\lib\\site-packages (from google-auth>=1.0.1->kubernetes>=28.1.0->chromadb) (4.9)\n",
      "Requirement already satisfied: filelock in d:\\ml_ai_projects\\environ\\.conda\\lib\\site-packages (from huggingface_hub<1.0,>=0.16.4->tokenizers>=0.13.2->chromadb) (3.13.1)\n",
      "Requirement already satisfied: fsspec>=2023.5.0 in d:\\ml_ai_projects\\environ\\.conda\\lib\\site-packages (from huggingface_hub<1.0,>=0.16.4->tokenizers>=0.13.2->chromadb) (2023.10.0)\n",
      "Requirement already satisfied: zipp>=0.5 in d:\\ml_ai_projects\\environ\\.conda\\lib\\site-packages (from importlib-metadata<=7.0,>=6.0->opentelemetry-api>=1.2.0->chromadb) (3.17.0)\n",
      "Requirement already satisfied: markdown-it-py>=2.2.0 in d:\\ml_ai_projects\\environ\\.conda\\lib\\site-packages (from rich>=10.11.0->typer>=0.9.0->chromadb) (3.0.0)\n",
      "Requirement already satisfied: pygments<3.0.0,>=2.13.0 in d:\\ml_ai_projects\\environ\\.conda\\lib\\site-packages (from rich>=10.11.0->typer>=0.9.0->chromadb) (2.17.2)\n",
      "Requirement already satisfied: anyio<5,>=3.4.0 in d:\\ml_ai_projects\\environ\\.conda\\lib\\site-packages (from starlette<0.38.0,>=0.37.2->fastapi>=0.95.2->chromadb) (4.3.0)\n",
      "Requirement already satisfied: humanfriendly>=9.1 in d:\\ml_ai_projects\\environ\\.conda\\lib\\site-packages (from coloredlogs->onnxruntime>=1.14.1->chromadb) (10.0)\n",
      "Requirement already satisfied: mpmath>=0.19 in d:\\ml_ai_projects\\environ\\.conda\\lib\\site-packages (from sympy->onnxruntime>=1.14.1->chromadb) (1.3.0)\n",
      "Requirement already satisfied: sniffio>=1.1 in d:\\ml_ai_projects\\environ\\.conda\\lib\\site-packages (from anyio<5,>=3.4.0->starlette<0.38.0,>=0.37.2->fastapi>=0.95.2->chromadb) (1.3.1)\n",
      "Requirement already satisfied: pyreadline3 in d:\\ml_ai_projects\\environ\\.conda\\lib\\site-packages (from humanfriendly>=9.1->coloredlogs->onnxruntime>=1.14.1->chromadb) (3.4.1)\n",
      "Requirement already satisfied: mdurl~=0.1 in d:\\ml_ai_projects\\environ\\.conda\\lib\\site-packages (from markdown-it-py>=2.2.0->rich>=10.11.0->typer>=0.9.0->chromadb) (0.1.2)\n",
      "Requirement already satisfied: pyasn1<0.7.0,>=0.4.6 in d:\\ml_ai_projects\\environ\\.conda\\lib\\site-packages (from pyasn1-modules>=0.2.1->google-auth>=1.0.1->kubernetes>=28.1.0->chromadb) (0.6.0)\n"
     ]
    }
   ],
   "source": [
    "!pip install Chroma chromadb"
   ]
  },
  {
   "cell_type": "code",
   "execution_count": 13,
   "metadata": {},
   "outputs": [],
   "source": [
    "from langchain_community.vectorstores import Chroma\n",
    "vector = Chroma.from_documents(documents, embeddings)"
   ]
  },
  {
   "cell_type": "code",
   "execution_count": 14,
   "metadata": {},
   "outputs": [],
   "source": [
    "from langchain_openai import ChatOpenAI\n",
    "llm = ChatOpenAI(openai_api_key=openai_api_key, model=\"gpt-3.5-turbo\")"
   ]
  },
  {
   "cell_type": "markdown",
   "metadata": {},
   "source": [
    "Output parser\n",
    "\n",
    "We would like to conver thte output of the chatmodel into a pure text"
   ]
  },
  {
   "cell_type": "code",
   "execution_count": 15,
   "metadata": {},
   "outputs": [],
   "source": [
    "from langchain_core.output_parsers import StrOutputParser\n",
    "output_parser = StrOutputParser()\n"
   ]
  },
  {
   "cell_type": "markdown",
   "metadata": {},
   "source": [
    "Retrievers \n",
    "\n",
    "Will be used to take the question, and compare it with all the numeric vectors in the databse and return the most similar chunks of text"
   ]
  },
  {
   "cell_type": "code",
   "execution_count": 16,
   "metadata": {},
   "outputs": [],
   "source": [
    "retriever = vector.as_retriever()"
   ]
  },
  {
   "cell_type": "markdown",
   "metadata": {},
   "source": [
    "## Adding memory"
   ]
  },
  {
   "cell_type": "markdown",
   "metadata": {},
   "source": [
    "## Question Maker \n",
    "\n",
    "One user asks a new question, there is a history of questions and answers in his/her mind. \n",
    "\n",
    "Here the idea is to reforulate user's question into a format that has its own conext. \n",
    "\n",
    "We are going to use LLM to perform this reformulation of the question. \n",
    "\n",
    "Here is the idea: \n",
    "\n",
    "User's followup question => LLM => reforulated question(with history)"
   ]
  },
  {
   "cell_type": "code",
   "execution_count": 17,
   "metadata": {},
   "outputs": [],
   "source": [
    "from langchain_core.prompts import ChatPromptTemplate, MessagesPlaceholder\n",
    "\n",
    "instructions_to_system=\"\"\"\n",
    "\n",
    "Given a chat history and the latest user question\n",
    "which might reference context in the chat history, formulate a standalone question\n",
    "which can be understood without the chat history. Do NOT answer the question, \n",
    "just reforumlate it if needed otherwise return it as is.\n",
    "\n",
    "\"\"\"\n",
    "\n",
    "question_maker_prompt = ChatPromptTemplate.from_messages(\n",
    "    [\n",
    "        (\"system\", instructions_to_system),\n",
    "        MessagesPlaceholder(variable_name = \"chat_history\"),\n",
    "        (\"human\", \"{question}\"),\n",
    "    ]\n",
    ")\n",
    "\n",
    "\n",
    "question_chain = question_maker_prompt | llm | StrOutputParser()"
   ]
  },
  {
   "cell_type": "markdown",
   "metadata": {},
   "source": [
    "## Exmaple \n",
    "\n",
    "Let's assume that we previously had asked about the shape of the moon and the ai had responsed that the mood in sphereical. \n",
    "\n",
    "Now user follows up asking for further explanation. But, does not give the context. \n",
    "\n",
    "The question_chain has to add the context to the followup question and make a new question. "
   ]
  },
  {
   "cell_type": "code",
   "execution_count": 20,
   "metadata": {},
   "outputs": [
    {
     "data": {
      "text/plain": [
       "'Can you provide further details on the shape of the moon?'"
      ]
     },
     "execution_count": 20,
     "metadata": {},
     "output_type": "execute_result"
    }
   ],
   "source": [
    "from langchain_core.messages import AIMessage, HumanMessage\n",
    "question_chain.invoke({\"question\": \"can you explain more?\", \n",
    "                       \"chat_history\": [HumanMessage(content=\"you explained that the moon is round\")]})"
   ]
  },
  {
   "cell_type": "markdown",
   "metadata": {},
   "source": [
    "## Prompt \n",
    "\n",
    "We now build the prompt for th  question and answer. \n",
    "\n",
    "This time, the prompt consists of: \n",
    "\n",
    " - a python-list of system instruction\n",
    " - a place holder to take the chat history later on\n",
    " - a user's question"
   ]
  },
  {
   "cell_type": "code",
   "execution_count": 21,
   "metadata": {},
   "outputs": [],
   "source": [
    "# Use three sentences maximum and keep the answer concise\n",
    "\n",
    "qa_system_prompt = \"\"\"\n",
    "\n",
    "You are an assistant for question-answering tasks. \\\n",
    "Use the following piece of retrieved context to answer the question. \\\n",
    "If you don't know the answer, provide a summary of the context. Do not generate your answer.\\\n",
    "    \n",
    "    {context}\n",
    "\"\"\"\n",
    "\n",
    "qa_prompt = ChatPromptTemplate.from_messages(\n",
    "    [\n",
    "        (\"system\", qa_system_prompt), \n",
    "        MessagesPlaceholder(variable_name=\"chat_history\"),\n",
    "        (\"human\", \"{question}\"),\n",
    "    ]\n",
    ")"
   ]
  },
  {
   "cell_type": "markdown",
   "metadata": {},
   "source": [
    "## Which question to pass to LLM \n",
    "\n",
    "We define a function that looks at the chat history, \n",
    "\n",
    "- If there is a history: it will pass the question chain( that reformulates user's question)\n",
    "- if chat history is empty, it will pass user's question directly"
   ]
  },
  {
   "cell_type": "code",
   "execution_count": 22,
   "metadata": {},
   "outputs": [],
   "source": [
    "def contextualized_question(input: dict):\n",
    "    if input.get(\"chat_history\"):\n",
    "        return question_chain\n",
    "    else: \n",
    "        return input[\"question\"]"
   ]
  },
  {
   "cell_type": "markdown",
   "metadata": {},
   "source": [
    "## Retriever chain\n",
    "\n",
    "We need a chain to pass the following to the llm: \n",
    "\n",
    "- context: use the vector retriever and get the most relevant chunks of the PDF \n",
    "- question: reforumlated or the original user's question depending on the history \n",
    "- chat_history: python list of the chats\n",
    "We use the assign function which adds the context to whatever it gets as input and pass it to the next link of the chain"
   ]
  },
  {
   "cell_type": "code",
   "execution_count": 23,
   "metadata": {},
   "outputs": [],
   "source": [
    "from langchain_core.runnables import  RunnablePassthrough\n",
    "\n",
    "retriever_chain = RunnablePassthrough.assign(\n",
    "    context = contextualized_question | retriever\n",
    ")"
   ]
  },
  {
   "cell_type": "markdown",
   "metadata": {},
   "source": [
    "## Example\n",
    "\n",
    "Let's see the output of the retriever_chain \n",
    "\n",
    "Look at the extra'context variable that is added to the \"question and \"chat_history\" variables. \n",
    "\n",
    "This is what the \"assign\" function does\n"
   ]
  },
  {
   "cell_type": "code",
   "execution_count": 25,
   "metadata": {},
   "outputs": [
    {
     "data": {
      "text/plain": [
       "{'chat_history': [HumanMessage(content='you explained that the moon is round')],\n",
       " 'question': 'can you explain more?',\n",
       " 'context': [Document(page_content='Mahmoodi et al. [ 27] UH U U L U\\nPanetta et al. [ 33]L L LL L U', metadata={'page': 5, 'source': 'documents/apple_cider.pdf'}),\n",
       "  Document(page_content='The online version contains supplementary material available at https://doi.', metadata={'page': 9, 'source': 'documents/apple_cider.pdf'}),\n",
       "  Document(page_content='dataSelective\\nreportingOther\\nbias\\nBashiri et al. [ 4]L U H L L L\\nHalima et al. [ 16] LU U U L U\\nKondo et al. [ 23]L U L L LU\\nMahmoodi et al. [ 27] UH U U L U\\nPanetta et al. [ 33]L L LL L U\\nKhezri et al. (2018) [ 22]L L H L L L\\nEbrahimi-Mamaghani et al. [ 12]LU H L L U\\nMohammadpourhodki et al.\\n(2019) [ 28]LU H L L U\\nKausar et al. (2019) [ 20]L L L L L L\\nHhigh risk of bias, Llow risk of bias, Uunclear or unrevealed risk of bias. Criteria defined for risk of bias assessment are according to the Cochrane guidelinesHadi et al. BMC Complementary Medicine and Therapies          (2021) 21:179 Page 6 of 12', metadata={'page': 5, 'source': 'documents/apple_cider.pdf'}),\n",
       "  Document(page_content='Tehran, Iran\\nFull list of author information is available at the end of the articleBMC Complementary\\nMedicine and Therapie sHadi et al. BMC Complementary Medicine and Therapies          (2021) 21:179 \\nhttps://doi.org/10.1186/s12906-021-03351-w', metadata={'page': 0, 'source': 'documents/apple_cider.pdf'})]}"
      ]
     },
     "execution_count": 25,
     "metadata": {},
     "output_type": "execute_result"
    }
   ],
   "source": [
    "retriever_chain.invoke({\n",
    "    \"chat_history\":[HumanMessage(content=\"you explained that the moon is round\")],\n",
    "    \"question\": \"can you explain more?\"\n",
    "})"
   ]
  },
  {
   "cell_type": "markdown",
   "metadata": {},
   "source": [
    "## Retrieval-Augmented Generation (RAG) Chain: the main chain\n",
    "\n",
    "This is the main chain that produces the final answer"
   ]
  },
  {
   "cell_type": "code",
   "execution_count": 27,
   "metadata": {},
   "outputs": [],
   "source": [
    "rag_chain =(\n",
    "    retriever_chain | qa_prompt | llm # | output_parser\n",
    ")"
   ]
  },
  {
   "cell_type": "code",
   "execution_count": 31,
   "metadata": {},
   "outputs": [],
   "source": [
    "question = \"What top are the top 3 benefits\""
   ]
  },
  {
   "cell_type": "code",
   "execution_count": 32,
   "metadata": {},
   "outputs": [
    {
     "data": {
      "text/plain": [
       "'The top three benefits of apple cider vinegar (ACV) consumption mentioned in the provided context are its potential to reduce fasting plasma glucose (FPG) levels, lower serum total cholesterol (TC) concentrations, and decrease triglyceride (TG) levels.'"
      ]
     },
     "execution_count": 32,
     "metadata": {},
     "output_type": "execute_result"
    }
   ],
   "source": [
    "chat_history=[]\n",
    "\n",
    "ai_msg = rag_chain.invoke({\"question\": question, \"chat_history\": chat_history})\n",
    "chat_history.extend([HumanMessage(content=question), ai_msg])\n",
    "ai_msg"
   ]
  },
  {
   "cell_type": "code",
   "execution_count": 36,
   "metadata": {},
   "outputs": [
    {
     "name": "stdout",
     "output_type": "stream",
     "text": [
      "The top three benefits of apple cider vinegar (ACV) consumption mentioned in the provided context are its potential to reduce fasting plasma glucose (FPG) levels, lower serum total cholesterol (TC) concentrations, and decrease triglyceride (TG) levels.\n"
     ]
    }
   ],
   "source": [
    "print(ai_msg)"
   ]
  },
  {
   "cell_type": "code",
   "execution_count": 37,
   "metadata": {},
   "outputs": [
    {
     "data": {
      "text/plain": [
       "'1. **Reducing Fasting Plasma Glucose (FPG) levels:** ACV consumption was found to significantly decrease FPG levels in studies where ACV was administered for more than 8 weeks. This indicates a potential benefit for individuals in managing their blood sugar levels.\\n\\n2. **Lowering Serum Total Cholesterol (TC) Concentrations:** The meta-analysis revealed that ACV consumption led to a significant decrease in serum total cholesterol levels. This effect can be beneficial for individuals looking to improve their lipid profiles and reduce the risk of cardiovascular diseases.\\n\\n3. **Decreasing Triglyceride (TG) Levels:** ACV consumption was associated with a significant reduction in triglyceride levels. Lowering triglycerides is important for maintaining heart health and reducing the risk of cardiovascular issues.'"
      ]
     },
     "execution_count": 37,
     "metadata": {},
     "output_type": "execute_result"
    }
   ],
   "source": [
    "question = \"Can you tell me more about each one?\"\n",
    "\n",
    "ai_msg = rag_chain.invoke({\"question\": question, \"chat_history\": chat_history})\n",
    "chat_history.extend([HumanMessage(content=question), ai_msg])\n",
    "ai_msg"
   ]
  },
  {
   "cell_type": "code",
   "execution_count": 39,
   "metadata": {},
   "outputs": [
    {
     "name": "stdout",
     "output_type": "stream",
     "text": [
      "1. **Reducing Fasting Plasma Glucose (FPG) levels:** ACV consumption was found to significantly decrease FPG levels in studies where ACV was administered for more than 8 weeks. This indicates a potential benefit for individuals in managing their blood sugar levels.\n",
      "\n",
      "2. **Lowering Serum Total Cholesterol (TC) Concentrations:** The meta-analysis revealed that ACV consumption led to a significant decrease in serum total cholesterol levels. This effect can be beneficial for individuals looking to improve their lipid profiles and reduce the risk of cardiovascular diseases.\n",
      "\n",
      "3. **Decreasing Triglyceride (TG) Levels:** ACV consumption was associated with a significant reduction in triglyceride levels. Lowering triglycerides is important for maintaining heart health and reducing the risk of cardiovascular issues.\n"
     ]
    }
   ],
   "source": [
    "print(ai_msg)"
   ]
  }
 ],
 "metadata": {
  "kernelspec": {
   "display_name": "Python 3",
   "language": "python",
   "name": "python3"
  },
  "language_info": {
   "codemirror_mode": {
    "name": "ipython",
    "version": 3
   },
   "file_extension": ".py",
   "mimetype": "text/x-python",
   "name": "python",
   "nbconvert_exporter": "python",
   "pygments_lexer": "ipython3",
   "version": "3.11.8"
  }
 },
 "nbformat": 4,
 "nbformat_minor": 2
}
