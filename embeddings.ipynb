{
 "cells": [
  {
   "cell_type": "code",
   "execution_count": 11,
   "metadata": {},
   "outputs": [
    {
     "name": "stdout",
     "output_type": "stream",
     "text": [
      "Requirement already satisfied: langchain_community in d:\\ml_ai_projects\\environ\\.conda\\lib\\site-packages (0.0.32)\n",
      "Requirement already satisfied: pypdf in d:\\ml_ai_projects\\environ\\.conda\\lib\\site-packages (4.1.0)\n",
      "Collecting langchain\n",
      "  Downloading langchain-0.1.16-py3-none-any.whl.metadata (13 kB)\n",
      "Requirement already satisfied: PyYAML>=5.3 in d:\\ml_ai_projects\\environ\\.conda\\lib\\site-packages (from langchain_community) (6.0.1)\n",
      "Requirement already satisfied: SQLAlchemy<3,>=1.4 in d:\\ml_ai_projects\\environ\\.conda\\lib\\site-packages (from langchain_community) (2.0.29)\n",
      "Requirement already satisfied: aiohttp<4.0.0,>=3.8.3 in d:\\ml_ai_projects\\environ\\.conda\\lib\\site-packages (from langchain_community) (3.9.3)\n",
      "Requirement already satisfied: dataclasses-json<0.7,>=0.5.7 in d:\\ml_ai_projects\\environ\\.conda\\lib\\site-packages (from langchain_community) (0.6.4)\n",
      "Requirement already satisfied: langchain-core<0.2.0,>=0.1.41 in d:\\ml_ai_projects\\environ\\.conda\\lib\\site-packages (from langchain_community) (0.1.42)\n",
      "Requirement already satisfied: langsmith<0.2.0,>=0.1.0 in d:\\ml_ai_projects\\environ\\.conda\\lib\\site-packages (from langchain_community) (0.1.47)\n",
      "Requirement already satisfied: numpy<2,>=1 in d:\\ml_ai_projects\\environ\\.conda\\lib\\site-packages (from langchain_community) (1.26.4)\n",
      "Requirement already satisfied: requests<3,>=2 in d:\\ml_ai_projects\\environ\\.conda\\lib\\site-packages (from langchain_community) (2.31.0)\n",
      "Requirement already satisfied: tenacity<9.0.0,>=8.1.0 in d:\\ml_ai_projects\\environ\\.conda\\lib\\site-packages (from langchain_community) (8.2.3)\n",
      "Requirement already satisfied: jsonpatch<2.0,>=1.33 in d:\\ml_ai_projects\\environ\\.conda\\lib\\site-packages (from langchain) (1.33)\n",
      "Collecting langchain-text-splitters<0.1,>=0.0.1 (from langchain)\n",
      "  Using cached langchain_text_splitters-0.0.1-py3-none-any.whl.metadata (2.0 kB)\n",
      "Requirement already satisfied: pydantic<3,>=1 in d:\\ml_ai_projects\\environ\\.conda\\lib\\site-packages (from langchain) (2.6.4)\n",
      "Requirement already satisfied: aiosignal>=1.1.2 in d:\\ml_ai_projects\\environ\\.conda\\lib\\site-packages (from aiohttp<4.0.0,>=3.8.3->langchain_community) (1.3.1)\n",
      "Requirement already satisfied: attrs>=17.3.0 in d:\\ml_ai_projects\\environ\\.conda\\lib\\site-packages (from aiohttp<4.0.0,>=3.8.3->langchain_community) (23.2.0)\n",
      "Requirement already satisfied: frozenlist>=1.1.1 in d:\\ml_ai_projects\\environ\\.conda\\lib\\site-packages (from aiohttp<4.0.0,>=3.8.3->langchain_community) (1.4.1)\n",
      "Requirement already satisfied: multidict<7.0,>=4.5 in d:\\ml_ai_projects\\environ\\.conda\\lib\\site-packages (from aiohttp<4.0.0,>=3.8.3->langchain_community) (6.0.5)\n",
      "Requirement already satisfied: yarl<2.0,>=1.0 in d:\\ml_ai_projects\\environ\\.conda\\lib\\site-packages (from aiohttp<4.0.0,>=3.8.3->langchain_community) (1.9.4)\n",
      "Requirement already satisfied: marshmallow<4.0.0,>=3.18.0 in d:\\ml_ai_projects\\environ\\.conda\\lib\\site-packages (from dataclasses-json<0.7,>=0.5.7->langchain_community) (3.21.1)\n",
      "Requirement already satisfied: typing-inspect<1,>=0.4.0 in d:\\ml_ai_projects\\environ\\.conda\\lib\\site-packages (from dataclasses-json<0.7,>=0.5.7->langchain_community) (0.9.0)\n",
      "Requirement already satisfied: jsonpointer>=1.9 in d:\\ml_ai_projects\\environ\\.conda\\lib\\site-packages (from jsonpatch<2.0,>=1.33->langchain) (2.4)\n",
      "Requirement already satisfied: packaging<24.0,>=23.2 in d:\\ml_ai_projects\\environ\\.conda\\lib\\site-packages (from langchain-core<0.2.0,>=0.1.41->langchain_community) (23.2)\n",
      "Requirement already satisfied: orjson<4.0.0,>=3.9.14 in d:\\ml_ai_projects\\environ\\.conda\\lib\\site-packages (from langsmith<0.2.0,>=0.1.0->langchain_community) (3.10.0)\n",
      "Requirement already satisfied: annotated-types>=0.4.0 in d:\\ml_ai_projects\\environ\\.conda\\lib\\site-packages (from pydantic<3,>=1->langchain) (0.6.0)\n",
      "Requirement already satisfied: pydantic-core==2.16.3 in d:\\ml_ai_projects\\environ\\.conda\\lib\\site-packages (from pydantic<3,>=1->langchain) (2.16.3)\n",
      "Requirement already satisfied: typing-extensions>=4.6.1 in d:\\ml_ai_projects\\environ\\.conda\\lib\\site-packages (from pydantic<3,>=1->langchain) (4.9.0)\n",
      "Requirement already satisfied: charset-normalizer<4,>=2 in d:\\ml_ai_projects\\environ\\.conda\\lib\\site-packages (from requests<3,>=2->langchain_community) (3.3.2)\n",
      "Requirement already satisfied: idna<4,>=2.5 in d:\\ml_ai_projects\\environ\\.conda\\lib\\site-packages (from requests<3,>=2->langchain_community) (3.6)\n",
      "Requirement already satisfied: urllib3<3,>=1.21.1 in d:\\ml_ai_projects\\environ\\.conda\\lib\\site-packages (from requests<3,>=2->langchain_community) (1.26.15)\n",
      "Requirement already satisfied: certifi>=2017.4.17 in d:\\ml_ai_projects\\environ\\.conda\\lib\\site-packages (from requests<3,>=2->langchain_community) (2024.2.2)\n",
      "Requirement already satisfied: greenlet!=0.4.17 in d:\\ml_ai_projects\\environ\\.conda\\lib\\site-packages (from SQLAlchemy<3,>=1.4->langchain_community) (3.0.3)\n",
      "Requirement already satisfied: mypy-extensions>=0.3.0 in d:\\ml_ai_projects\\environ\\.conda\\lib\\site-packages (from typing-inspect<1,>=0.4.0->dataclasses-json<0.7,>=0.5.7->langchain_community) (1.0.0)\n",
      "Downloading langchain-0.1.16-py3-none-any.whl (817 kB)\n",
      "   ---------------------------------------- 0.0/817.7 kB ? eta -:--:--\n",
      "    --------------------------------------- 10.2/817.7 kB ? eta -:--:--\n",
      "   --- ----------------------------------- 71.7/817.7 kB 975.2 kB/s eta 0:00:01\n",
      "   ----------------- ---------------------- 358.4/817.7 kB 2.8 MB/s eta 0:00:01\n",
      "   ------------------------------ --------- 624.6/817.7 kB 3.6 MB/s eta 0:00:01\n",
      "   ---------------------------------- ----- 696.3/817.7 kB 3.6 MB/s eta 0:00:01\n",
      "   ------------------------------------ --- 737.3/817.7 kB 3.1 MB/s eta 0:00:01\n",
      "   ---------------------------------------- 817.7/817.7 kB 2.9 MB/s eta 0:00:00\n",
      "Using cached langchain_text_splitters-0.0.1-py3-none-any.whl (21 kB)\n",
      "Installing collected packages: langchain-text-splitters, langchain\n",
      "Successfully installed langchain-0.1.16 langchain-text-splitters-0.0.1\n"
     ]
    }
   ],
   "source": [
    "!pip install langchain_community pypdf langchain"
   ]
  },
  {
   "cell_type": "code",
   "execution_count": 3,
   "metadata": {},
   "outputs": [],
   "source": [
    "question = \"can you summarize the benefits of apple cider vinegar\""
   ]
  },
  {
   "cell_type": "code",
   "execution_count": 4,
   "metadata": {},
   "outputs": [],
   "source": [
    "from langchain_community.document_loaders import PyPDFLoader"
   ]
  },
  {
   "cell_type": "code",
   "execution_count": 13,
   "metadata": {},
   "outputs": [],
   "source": [
    "loader = PyPDFLoader(\"documents/apple_cider.pdf\")"
   ]
  },
  {
   "cell_type": "code",
   "execution_count": 14,
   "metadata": {},
   "outputs": [],
   "source": [
    "pages = loader.load_and_split()\n"
   ]
  },
  {
   "cell_type": "code",
   "execution_count": 15,
   "metadata": {},
   "outputs": [],
   "source": [
    "from langchain.text_splitter import RecursiveCharacterTextSplitter\n",
    "\n",
    "text_splitter = RecursiveCharacterTextSplitter(chunk_size = 1000, chunk_overlap=20)"
   ]
  },
  {
   "cell_type": "code",
   "execution_count": 17,
   "metadata": {},
   "outputs": [],
   "source": [
    "documents = text_splitter.split_documents(pages)"
   ]
  },
  {
   "cell_type": "code",
   "execution_count": 18,
   "metadata": {},
   "outputs": [
    {
     "name": "stdout",
     "output_type": "stream",
     "text": [
      "17 vs 57\n"
     ]
    }
   ],
   "source": [
    "print(f\"{len(pages)} vs {len(documents)}\")"
   ]
  },
  {
   "cell_type": "code",
   "execution_count": null,
   "metadata": {},
   "outputs": [],
   "source": [
    "!pip install dotenv"
   ]
  },
  {
   "cell_type": "code",
   "execution_count": 20,
   "metadata": {},
   "outputs": [],
   "source": [
    "import os \n",
    "from dotenv import load_dotenv\n",
    "\n",
    "load_dotenv(\".env\")\n",
    "\n",
    "openai_api_key = os.getenv(\"open_ai_key\")"
   ]
  },
  {
   "cell_type": "code",
   "execution_count": 21,
   "metadata": {},
   "outputs": [],
   "source": [
    "from langchain_openai import OpenAIEmbeddings\n",
    "\n",
    "embeddings = OpenAIEmbeddings(openai_api_key=openai_api_key)"
   ]
  },
  {
   "cell_type": "code",
   "execution_count": 22,
   "metadata": {},
   "outputs": [],
   "source": [
    "from langchain_community.vectorstores import FAISS"
   ]
  },
  {
   "cell_type": "code",
   "execution_count": 24,
   "metadata": {},
   "outputs": [
    {
     "name": "stdout",
     "output_type": "stream",
     "text": [
      "Collecting faiss-cpu\n",
      "  Downloading faiss_cpu-1.8.0-cp311-cp311-win_amd64.whl.metadata (3.8 kB)\n",
      "Requirement already satisfied: numpy in d:\\ml_ai_projects\\environ\\.conda\\lib\\site-packages (from faiss-cpu) (1.26.4)\n",
      "Downloading faiss_cpu-1.8.0-cp311-cp311-win_amd64.whl (14.5 MB)\n",
      "   ---------------------------------------- 0.0/14.5 MB ? eta -:--:--\n",
      "   ---------------------------------------- 0.0/14.5 MB ? eta -:--:--\n",
      "   ---------------------------------------- 0.1/14.5 MB 1.3 MB/s eta 0:00:11\n",
      "    --------------------------------------- 0.3/14.5 MB 2.8 MB/s eta 0:00:06\n",
      "   - -------------------------------------- 0.6/14.5 MB 3.5 MB/s eta 0:00:04\n",
      "   -- ------------------------------------- 0.8/14.5 MB 4.0 MB/s eta 0:00:04\n",
      "   -- ------------------------------------- 1.0/14.5 MB 4.1 MB/s eta 0:00:04\n",
      "   ---- ----------------------------------- 1.5/14.5 MB 5.0 MB/s eta 0:00:03\n",
      "   ---- ----------------------------------- 1.8/14.5 MB 5.3 MB/s eta 0:00:03\n",
      "   ----- ---------------------------------- 2.1/14.5 MB 5.4 MB/s eta 0:00:03\n",
      "   ------ --------------------------------- 2.4/14.5 MB 5.6 MB/s eta 0:00:03\n",
      "   ------- -------------------------------- 2.7/14.5 MB 5.6 MB/s eta 0:00:03\n",
      "   -------- ------------------------------- 3.0/14.5 MB 5.6 MB/s eta 0:00:03\n",
      "   --------- ------------------------------ 3.3/14.5 MB 5.7 MB/s eta 0:00:02\n",
      "   --------- ------------------------------ 3.6/14.5 MB 5.7 MB/s eta 0:00:02\n",
      "   ---------- ----------------------------- 3.8/14.5 MB 5.7 MB/s eta 0:00:02\n",
      "   ----------- ---------------------------- 4.1/14.5 MB 5.7 MB/s eta 0:00:02\n",
      "   ------------ --------------------------- 4.4/14.5 MB 5.7 MB/s eta 0:00:02\n",
      "   ------------ --------------------------- 4.6/14.5 MB 5.7 MB/s eta 0:00:02\n",
      "   ------------- -------------------------- 4.9/14.5 MB 5.7 MB/s eta 0:00:02\n",
      "   -------------- ------------------------- 5.2/14.5 MB 5.7 MB/s eta 0:00:02\n",
      "   --------------- ------------------------ 5.5/14.5 MB 5.7 MB/s eta 0:00:02\n",
      "   --------------- ------------------------ 5.8/14.5 MB 5.8 MB/s eta 0:00:02\n",
      "   ---------------- ----------------------- 6.1/14.5 MB 5.8 MB/s eta 0:00:02\n",
      "   ----------------- ---------------------- 6.3/14.5 MB 5.8 MB/s eta 0:00:02\n",
      "   ------------------ --------------------- 6.6/14.5 MB 5.8 MB/s eta 0:00:02\n",
      "   ------------------- -------------------- 6.9/14.5 MB 5.8 MB/s eta 0:00:02\n",
      "   ------------------- -------------------- 7.2/14.5 MB 5.8 MB/s eta 0:00:02\n",
      "   -------------------- ------------------- 7.4/14.5 MB 5.8 MB/s eta 0:00:02\n",
      "   -------------------- ------------------- 7.4/14.5 MB 5.8 MB/s eta 0:00:02\n",
      "   -------------------- ------------------- 7.4/14.5 MB 5.5 MB/s eta 0:00:02\n",
      "   --------------------- ------------------ 7.6/14.5 MB 5.4 MB/s eta 0:00:02\n",
      "   --------------------- ------------------ 7.7/14.5 MB 5.3 MB/s eta 0:00:02\n",
      "   --------------------- ------------------ 7.8/14.5 MB 5.2 MB/s eta 0:00:02\n",
      "   --------------------- ------------------ 7.8/14.5 MB 5.1 MB/s eta 0:00:02\n",
      "   --------------------- ------------------ 7.9/14.5 MB 5.0 MB/s eta 0:00:02\n",
      "   --------------------- ------------------ 8.0/14.5 MB 4.8 MB/s eta 0:00:02\n",
      "   ---------------------- ----------------- 8.0/14.5 MB 4.7 MB/s eta 0:00:02\n",
      "   ---------------------- ----------------- 8.1/14.5 MB 4.6 MB/s eta 0:00:02\n",
      "   ---------------------- ----------------- 8.1/14.5 MB 4.5 MB/s eta 0:00:02\n",
      "   ---------------------- ----------------- 8.2/14.5 MB 4.4 MB/s eta 0:00:02\n",
      "   ---------------------- ----------------- 8.2/14.5 MB 4.4 MB/s eta 0:00:02\n",
      "   ---------------------- ----------------- 8.3/14.5 MB 4.3 MB/s eta 0:00:02\n",
      "   ----------------------- ---------------- 8.4/14.5 MB 4.2 MB/s eta 0:00:02\n",
      "   ----------------------- ---------------- 8.4/14.5 MB 4.1 MB/s eta 0:00:02\n",
      "   ----------------------- ---------------- 8.5/14.5 MB 4.1 MB/s eta 0:00:02\n",
      "   ----------------------- ---------------- 8.6/14.5 MB 4.1 MB/s eta 0:00:02\n",
      "   ----------------------- ---------------- 8.7/14.5 MB 4.0 MB/s eta 0:00:02\n",
      "   ------------------------ --------------- 8.7/14.5 MB 4.0 MB/s eta 0:00:02\n",
      "   ------------------------ --------------- 8.8/14.5 MB 3.9 MB/s eta 0:00:02\n",
      "   ------------------------ --------------- 8.9/14.5 MB 3.9 MB/s eta 0:00:02\n",
      "   ------------------------ --------------- 9.0/14.5 MB 3.8 MB/s eta 0:00:02\n",
      "   ------------------------- -------------- 9.1/14.5 MB 3.8 MB/s eta 0:00:02\n",
      "   ------------------------- -------------- 9.2/14.5 MB 3.8 MB/s eta 0:00:02\n",
      "   ------------------------- -------------- 9.3/14.5 MB 3.7 MB/s eta 0:00:02\n",
      "   ------------------------- -------------- 9.4/14.5 MB 3.7 MB/s eta 0:00:02\n",
      "   -------------------------- ------------- 9.5/14.5 MB 3.7 MB/s eta 0:00:02\n",
      "   -------------------------- ------------- 9.6/14.5 MB 3.7 MB/s eta 0:00:02\n",
      "   -------------------------- ------------- 9.7/14.5 MB 3.6 MB/s eta 0:00:02\n",
      "   --------------------------- ------------ 9.9/14.5 MB 3.6 MB/s eta 0:00:02\n",
      "   --------------------------- ------------ 10.0/14.5 MB 3.6 MB/s eta 0:00:02\n",
      "   --------------------------- ------------ 10.1/14.5 MB 3.6 MB/s eta 0:00:02\n",
      "   ---------------------------- ----------- 10.2/14.5 MB 3.6 MB/s eta 0:00:02\n",
      "   ---------------------------- ----------- 10.4/14.5 MB 3.6 MB/s eta 0:00:02\n",
      "   ---------------------------- ----------- 10.5/14.5 MB 3.6 MB/s eta 0:00:02\n",
      "   ----------------------------- ---------- 10.6/14.5 MB 3.6 MB/s eta 0:00:02\n",
      "   ----------------------------- ---------- 10.8/14.5 MB 3.5 MB/s eta 0:00:02\n",
      "   ------------------------------ --------- 10.9/14.5 MB 3.5 MB/s eta 0:00:02\n",
      "   ------------------------------ --------- 11.0/14.5 MB 3.5 MB/s eta 0:00:01\n",
      "   ------------------------------ --------- 11.2/14.5 MB 3.5 MB/s eta 0:00:01\n",
      "   ------------------------------- -------- 11.3/14.5 MB 3.5 MB/s eta 0:00:01\n",
      "   ------------------------------- -------- 11.4/14.5 MB 3.4 MB/s eta 0:00:01\n",
      "   ------------------------------- -------- 11.5/14.5 MB 3.4 MB/s eta 0:00:01\n",
      "   -------------------------------- ------- 11.6/14.5 MB 3.3 MB/s eta 0:00:01\n",
      "   -------------------------------- ------- 11.6/14.5 MB 3.3 MB/s eta 0:00:01\n",
      "   -------------------------------- ------- 11.7/14.5 MB 3.2 MB/s eta 0:00:01\n",
      "   -------------------------------- ------- 11.7/14.5 MB 3.2 MB/s eta 0:00:01\n",
      "   -------------------------------- ------- 11.8/14.5 MB 3.2 MB/s eta 0:00:01\n",
      "   -------------------------------- ------- 11.9/14.5 MB 3.1 MB/s eta 0:00:01\n",
      "   -------------------------------- ------- 11.9/14.5 MB 3.1 MB/s eta 0:00:01\n",
      "   -------------------------------- ------- 11.9/14.5 MB 3.0 MB/s eta 0:00:01\n",
      "   --------------------------------- ------ 12.0/14.5 MB 3.0 MB/s eta 0:00:01\n",
      "   --------------------------------- ------ 12.0/14.5 MB 3.0 MB/s eta 0:00:01\n",
      "   --------------------------------- ------ 12.1/14.5 MB 3.0 MB/s eta 0:00:01\n",
      "   --------------------------------- ------ 12.1/14.5 MB 2.9 MB/s eta 0:00:01\n",
      "   --------------------------------- ------ 12.2/14.5 MB 2.9 MB/s eta 0:00:01\n",
      "   --------------------------------- ------ 12.2/14.5 MB 2.8 MB/s eta 0:00:01\n",
      "   --------------------------------- ------ 12.3/14.5 MB 2.8 MB/s eta 0:00:01\n",
      "   ---------------------------------- ----- 12.4/14.5 MB 2.8 MB/s eta 0:00:01\n",
      "   ---------------------------------- ----- 12.4/14.5 MB 2.8 MB/s eta 0:00:01\n",
      "   ---------------------------------- ----- 12.5/14.5 MB 2.7 MB/s eta 0:00:01\n",
      "   ---------------------------------- ----- 12.6/14.5 MB 2.7 MB/s eta 0:00:01\n",
      "   ---------------------------------- ----- 12.7/14.5 MB 2.7 MB/s eta 0:00:01\n",
      "   ----------------------------------- ---- 12.8/14.5 MB 2.7 MB/s eta 0:00:01\n",
      "   ----------------------------------- ---- 12.9/14.5 MB 2.6 MB/s eta 0:00:01\n",
      "   ----------------------------------- ---- 12.9/14.5 MB 2.6 MB/s eta 0:00:01\n",
      "   ----------------------------------- ---- 13.0/14.5 MB 2.6 MB/s eta 0:00:01\n",
      "   ------------------------------------ --- 13.1/14.5 MB 2.6 MB/s eta 0:00:01\n",
      "   ------------------------------------ --- 13.2/14.5 MB 2.6 MB/s eta 0:00:01\n",
      "   ------------------------------------ --- 13.3/14.5 MB 2.5 MB/s eta 0:00:01\n",
      "   ------------------------------------ --- 13.4/14.5 MB 2.5 MB/s eta 0:00:01\n",
      "   ------------------------------------- -- 13.5/14.5 MB 2.5 MB/s eta 0:00:01\n",
      "   ------------------------------------- -- 13.6/14.5 MB 2.5 MB/s eta 0:00:01\n",
      "   ------------------------------------- -- 13.8/14.5 MB 2.5 MB/s eta 0:00:01\n",
      "   -------------------------------------- - 13.9/14.5 MB 2.5 MB/s eta 0:00:01\n",
      "   -------------------------------------- - 14.0/14.5 MB 2.4 MB/s eta 0:00:01\n",
      "   -------------------------------------- - 14.1/14.5 MB 2.4 MB/s eta 0:00:01\n",
      "   ---------------------------------------  14.3/14.5 MB 2.4 MB/s eta 0:00:01\n",
      "   ---------------------------------------  14.4/14.5 MB 2.4 MB/s eta 0:00:01\n",
      "   ---------------------------------------  14.5/14.5 MB 2.4 MB/s eta 0:00:01\n",
      "   ---------------------------------------- 14.5/14.5 MB 2.4 MB/s eta 0:00:00\n",
      "Installing collected packages: faiss-cpu\n",
      "Successfully installed faiss-cpu-1.8.0\n"
     ]
    }
   ],
   "source": [
    "!pip install faiss-cpu"
   ]
  },
  {
   "cell_type": "code",
   "execution_count": 25,
   "metadata": {},
   "outputs": [],
   "source": [
    "vector = FAISS.from_documents(documents, embeddings)"
   ]
  },
  {
   "cell_type": "code",
   "execution_count": 26,
   "metadata": {},
   "outputs": [
    {
     "data": {
      "text/plain": [
       "[(Document(page_content='the necessity of discerning novel and efficacious ap-\\nproaches. In this line, the benefical effect of nutraceutics\\nand fuctional foods on human health have been well-\\ndocumented [ 8,36]. In contemporary research and prac-\\ntice, plants and their derivatives have attracted a lot of\\ninterest for their beneficial effects in controlling lipid\\nprofile and glycemic status [ 5,15,37]. Indeed, one of the\\nmost popular plant derivatives in this regard is vinegar.\\nApple cider vinegar (ACV) is one of the three most\\ncommon types of vinegar, produced by fermenting ap-\\nples [ 3]. This acidic solution is consumed throughout\\nthe world as a flavoring and preservative agent in foods\\n[22]. ACV contains a variety of flavonoids, such as gallic\\nacid, catechin, caffeic acid, and ferulic acid [ 11,31]. Ani-\\nmal experiments have reported that ACV has a variety\\nof pharmacological functions, including anti-oxidant,\\nanti-inflammatory, anti-diabetic, anti-hypertensive, and', metadata={'source': 'documents/apple_cider.pdf', 'page': 1}),\n",
       "  0.2793307),\n",
       " (Document(page_content='Diabetes Care. 2015;38(1):140 –9.https://doi.org/10.2337/dc14-2441 .\\n20. Kausar S, Abbas MA, Hajra Ahmad NY, Ahmed Z, Humayun N, Ashfaq H,\\net al. Effect of apple cider vinegar in type 2 diabetic patients with poor\\nglycemic control: a randomized placebo controlled design®. Health Sci.\\n2019a;8(2):149 –59.\\n21. Kausar S, Humayun A, Ahmed Z, Abbas MA, Tahir A. Effect of apple cider\\nvinegar on glycemic control, hyperlipidemia and control on body weight in\\ntype 2 diabetes patients. Health Sci. 2019b;8(5):59 –74.\\n22. Khezri SS, Saidpour A, Hosseinzadeh N, Amiri Z. Beneficial effects of apple\\ncider vinegar on weight management, visceral adiposity index and lipid\\nprofile in overweight or obese subjects receiving restricted calorie diet: a\\nrandomized clinical trial. J Funct Foods. 2018;43:95 –102. https://doi.org/10.1\\n016/j.jff.2018.02.003 .\\n23. Kondo T, Kishi M, Fushimi T, Ugajin S, Kaga T. Vinegar intake reduces body\\nweight, body fat mass, and serum triglyceride levels in obese Japanese', metadata={'source': 'documents/apple_cider.pdf', 'page': 10}),\n",
       "  0.29188707),\n",
       " (Document(page_content='Following systematic review and meta-analysis, we found\\nthat ACV consumption might beneficially affect gly-\\ncemic status and lipid parameters in adults; however,\\ndue to some limitations, the findings should be inter-\\npreted with caution. Considering that ACV is a safe\\nfood, it could be considered as a functional food and ad-\\njuvant therapy in the management of metabolic abnor-\\nmalities. However, further studies are needed to clarify\\nall possible beneficial effects of ACV on glycemic\\nmarkers and lipid profiles.\\nAbbreviations\\nCVDs: Cardiovascular diseases; ACV: Apple cider vinegar; PRISMA: Preferred\\nReporting Items for Systematic Reviews and Meta- Analysis; MeSH: Medical\\nSubject Heading; MD: Mean differences; SDs: Standard deviations;\\nFPG: Fasting plasma glucose; HOMA-IR: Homeostasis model assessment of\\ninsulin resistance; TG: Triacylglycerol; TC: Total cholesterol; LDL-C: Low-\\ndensity lipoprotein cholesterol; HDL-C: High-density protein cholesterol\\nSupplementary Information', metadata={'source': 'documents/apple_cider.pdf', 'page': 9}),\n",
       "  0.30312562),\n",
       " (Document(page_content='2014. https://doi.org/10.1155/2014/163036 .\\n16. Halima BH, Sarra K, Mohamed S, Louay T, Fethi BS, Houda BJ, et al. Apple\\ncider vinegar ameliorates hyperglycemia and hyperlipidemia in Tunisian\\ntype 2 diabetic patients. Int J Multidisciplinary Curr Res. 2017;5:1453 –9.\\n17. Higgins JPT, Thomas J, Chandler J, Cumpston M, Li T, Page MJ, Welch VA,\\neditors. Cochrane Handbook for Systematic Reviews of Interventions version\\n6.2 (updated February 2021). Cochrane. 2021. Available from www.training.\\ncochrane.org/handbook .\\n18. Iman M, Moallem SA, Barahoyee A. Effect of apple cider vinegar on blood\\nglucose level in diabetic mice. Pharm Sci. 2015;20(4):163.\\n19. Inzucchi SE, Bergenstal RM, Buse JB, Diamant M, Ferrannini E, Nauck M, et al.\\nManagement of hyperglycemia in type 2 diabetes, 2015: a patient-centered\\napproach: update to a position statement of the American Diabetes\\nAssociation and the European Association for the Study of diabetes.', metadata={'source': 'documents/apple_cider.pdf', 'page': 10}),\n",
       "  0.30563793)]"
      ]
     },
     "execution_count": 26,
     "metadata": {},
     "output_type": "execute_result"
    }
   ],
   "source": [
    "vector.similarity_search_with_score(question)"
   ]
  },
  {
   "cell_type": "code",
   "execution_count": 27,
   "metadata": {},
   "outputs": [],
   "source": [
    "from langchain_core.prompts import ChatPromptTemplate\n",
    "\n",
    "prompt= ChatPromptTemplate.from_template(\"\"\"\n",
    "Answer the following questions based ont he provided context.\n",
    "    If the context did not answer the question do the followings: \n",
    "    1. Mention that you could not find the exact answer, \n",
    "    2. provide a summary of the contxt\n",
    "    \n",
    "Context:                          \n",
    "{context}\n",
    "\n",
    "Question: \n",
    "{question}   \n",
    "\n",
    "Your response:           \n",
    "                           \n",
    "                           \"\"\")"
   ]
  },
  {
   "cell_type": "code",
   "execution_count": 28,
   "metadata": {},
   "outputs": [],
   "source": [
    "from langchain_openai import ChatOpenAI\n",
    "\n",
    "llm = ChatOpenAI(openai_api_key=openai_api_key, model=\"gpt-3.5-turbo\")"
   ]
  },
  {
   "cell_type": "code",
   "execution_count": 29,
   "metadata": {},
   "outputs": [],
   "source": [
    "from langchain_core.output_parsers import StrOutputParser\n",
    "output_parse = StrOutputParser()"
   ]
  },
  {
   "cell_type": "code",
   "execution_count": 30,
   "metadata": {},
   "outputs": [],
   "source": [
    "retriever = vector.as_retriever()\n"
   ]
  },
  {
   "cell_type": "code",
   "execution_count": 34,
   "metadata": {},
   "outputs": [],
   "source": [
    "from langchain_core.runnables import RunnableParallel, RunnablePassthrough\n",
    "\n",
    "setup_and_retrieval = RunnableParallel(\n",
    "    {\"context\":retriever, \"question\": RunnablePassthrough()}\n",
    ")"
   ]
  },
  {
   "cell_type": "code",
   "execution_count": 35,
   "metadata": {},
   "outputs": [],
   "source": [
    "chain = setup_and_retrieval | prompt | llm | output_parse"
   ]
  },
  {
   "cell_type": "code",
   "execution_count": 36,
   "metadata": {},
   "outputs": [],
   "source": [
    "response = chain.invoke(question)"
   ]
  },
  {
   "cell_type": "code",
   "execution_count": null,
   "metadata": {},
   "outputs": [],
   "source": [
    "print(response)"
   ]
  }
 ],
 "metadata": {
  "kernelspec": {
   "display_name": "Python 3",
   "language": "python",
   "name": "python3"
  },
  "language_info": {
   "codemirror_mode": {
    "name": "ipython",
    "version": 3
   },
   "file_extension": ".py",
   "mimetype": "text/x-python",
   "name": "python",
   "nbconvert_exporter": "python",
   "pygments_lexer": "ipython3",
   "version": "3.11.8"
  }
 },
 "nbformat": 4,
 "nbformat_minor": 2
}
